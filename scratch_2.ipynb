{
 "cells": [
  {
   "cell_type": "code",
   "execution_count": 1,
   "id": "4793251a-ded2-424a-9eb7-be3638e954fc",
   "metadata": {},
   "outputs": [],
   "source": [
    "import sentencepiece as spm"
   ]
  },
  {
   "cell_type": "code",
   "execution_count": 2,
   "id": "ea6f2090-60d2-4065-acae-c27b3a49d67b",
   "metadata": {},
   "outputs": [],
   "source": [
    "processor = spm.SentencePieceProcessor(\n",
    "    model_file=\"model/sentencepiece/tiny_shakespeare_67.model\"\n",
    ")\n"
   ]
  },
  {
   "cell_type": "code",
   "execution_count": 19,
   "id": "287822d8-4190-4638-ba2b-9d3b294ae542",
   "metadata": {},
   "outputs": [],
   "source": [
    "import sentencepiece as spm  # type: ignore\n",
    "\n",
    "\n",
    "class Encoder:\n",
    "    def encode(self, input: str) -> list[int]:\n",
    "        raise NotImplementedError()\n",
    "\n",
    "    def decode(self, input: list[int]) -> str:\n",
    "        raise NotImplementedError()\n",
    "\n",
    "    def vocab_size(self) -> int:\n",
    "        raise NotImplementedError()\n",
    "\n",
    "\n",
    "class CharEncoder(Encoder):\n",
    "    _char_to_index: dict[str, int]\n",
    "    _index_to_char: list[str]\n",
    "\n",
    "    def __init__(self, chars: str) -> None:\n",
    "        super().__init__()\n",
    "        self._index_to_char = sorted(set(chars))\n",
    "        self._char_to_index = {\n",
    "            ch: i for i, ch in enumerate(self._index_to_char)\n",
    "        }\n",
    "\n",
    "    def encode(self, input: str) -> list[int]:\n",
    "        return [self._char_to_index[ch] for ch in input]\n",
    "\n",
    "    def decode(self, input: list[int]) -> str:\n",
    "        return \"\".join([self._index_to_char[i] for i in input])\n",
    "\n",
    "    def vocab_size(self) -> int:\n",
    "        return len(self._index_to_char)\n",
    "\n",
    "\n",
    "class SentencePieceEncoder(Encoder):\n",
    "    _processor: spm.SentencePieceProcessor\n",
    "    _eos_id: int\n",
    "\n",
    "    def __init__(self, processor: spm.SentencePieceProcessor) -> None:\n",
    "        super().__init__()\n",
    "        self._processor = processor\n",
    "        self._eos_id = processor.eos_id()\n",
    "\n",
    "    def encode(self, input: str) -> list[int]:\n",
    "        lines = input.split('\\n')\n",
    "        result = []\n",
    "        for i, encoded_line in enumerate(self._processor.encode(lines)):\n",
    "            if i > 0:\n",
    "                result.append(self._eos_id)\n",
    "            result.extend(encoded_line)\n",
    "        return result\n",
    "\n",
    "    def decode(self, input: list[int]) -> str:\n",
    "        return '\\n'.join(self._processor.decode(_split_list(input, self._eos_id)))\n",
    "\n",
    "def _split_list(input: list[int], delimiter: int) -> list[list[int]]:\n",
    "    offsets = [i for i, val in enumerate(input) if val == delimiter]\n",
    "    last_offset = 0\n",
    "    result = []\n",
    "    for offset in offsets:\n",
    "        result.append(input[last_offset:offset])\n",
    "        last_offset = offset\n",
    "    result.append(input[last_offset:])\n",
    "    return result"
   ]
  },
  {
   "cell_type": "code",
   "execution_count": 7,
   "id": "94e483d8-5e79-4e49-8485-5445209194f3",
   "metadata": {},
   "outputs": [
    {
     "data": {
      "text/plain": [
       "[5, 12]"
      ]
     },
     "execution_count": 7,
     "metadata": {},
     "output_type": "execute_result"
    }
   ],
   "source": [
    "[i for i, ch in enumerate('hello\\nworld!\\n') if ch == '\\n']"
   ]
  },
  {
   "cell_type": "code",
   "execution_count": 8,
   "id": "fcee25a4-d73f-4eeb-8971-c8b346d1f2f8",
   "metadata": {},
   "outputs": [
    {
     "data": {
      "text/plain": [
       "['hello', 'world!', '']"
      ]
     },
     "execution_count": 8,
     "metadata": {},
     "output_type": "execute_result"
    }
   ],
   "source": [
    "'hello\\nworld!\\n'.split('\\n')"
   ]
  },
  {
   "cell_type": "code",
   "execution_count": 20,
   "id": "6a57e8f4-16fa-4a89-9815-68303b7622a1",
   "metadata": {},
   "outputs": [],
   "source": [
    "encoder = SentencePieceEncoder(processor)"
   ]
  },
  {
   "cell_type": "code",
   "execution_count": 22,
   "id": "cb2e24f0-844d-4dec-96e8-33ddc81a0e7d",
   "metadata": {},
   "outputs": [
    {
     "data": {
      "text/plain": [
       "[3, 13, 4, 11, 11, 6, 45, 2, 3, 17, 6, 12, 11, 14, 45, 2, 2]"
      ]
     },
     "execution_count": 22,
     "metadata": {},
     "output_type": "execute_result"
    }
   ],
   "source": [
    "encoder.encode('hello!\\nworld!\\n\\n')"
   ]
  },
  {
   "cell_type": "code",
   "execution_count": 26,
   "id": "bd74bb4c-31c1-484f-a30d-3e18dbb3f3a9",
   "metadata": {},
   "outputs": [
    {
     "data": {
      "text/plain": [
       "''"
      ]
     },
     "execution_count": 26,
     "metadata": {},
     "output_type": "execute_result"
    }
   ],
   "source": [
    "encoder.decode([])"
   ]
  },
  {
   "cell_type": "code",
   "execution_count": null,
   "id": "906e7cf3-7840-4ae6-9d27-571c7f4a091d",
   "metadata": {},
   "outputs": [],
   "source": []
  }
 ],
 "metadata": {
  "kernelspec": {
   "display_name": "Python 3 (ipykernel)",
   "language": "python",
   "name": "python3"
  },
  "language_info": {
   "codemirror_mode": {
    "name": "ipython",
    "version": 3
   },
   "file_extension": ".py",
   "mimetype": "text/x-python",
   "name": "python",
   "nbconvert_exporter": "python",
   "pygments_lexer": "ipython3",
   "version": "3.11.4"
  }
 },
 "nbformat": 4,
 "nbformat_minor": 5
}
