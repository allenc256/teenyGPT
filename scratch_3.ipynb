{
 "cells": [
  {
   "cell_type": "code",
   "execution_count": 128,
   "id": "36c6e06b-ae93-4bc3-be13-90d01974f66a",
   "metadata": {},
   "outputs": [],
   "source": [
    "import math\n",
    "import numpy as np\n",
    "import torch\n",
    "from torch import nn\n",
    "from torch.nn import functional as F"
   ]
  },
  {
   "cell_type": "code",
   "execution_count": 147,
   "id": "4992f334-deb4-4d9f-9d5e-cd642b89aac0",
   "metadata": {},
   "outputs": [],
   "source": [
    "xs = torch.arange(4*3, dtype=torch.float).reshape(1, 4, 3)\n",
    "w_q = nn.Linear(3, 3)\n",
    "w_k = nn.Linear(3, 3)\n",
    "w_v = nn.Linear(3, 3)\n",
    "softmax = nn.Softmax(dim=-1)\n",
    "multihead_attention = nn.MultiheadAttention(embed_dim=3, num_heads=1, batch_first=True, bias=False)"
   ]
  },
  {
   "cell_type": "code",
   "execution_count": 161,
   "id": "4e018c0c-483e-4499-bcd6-efc99f4a2112",
   "metadata": {},
   "outputs": [],
   "source": [
    "q = w_q(xs)\n",
    "k = w_k(xs)\n",
    "v = w_v(xs)\n",
    "aw1 = softmax(torch.bmm(q / math.sqrt(3), k.transpose(-2, -1)))\n",
    "a1 = torch.bmm(aw1, v)\n",
    "a2, aw2 = multihead_attention(q, k, v, average_attn_weights=False)"
   ]
  },
  {
   "cell_type": "code",
   "execution_count": 194,
   "id": "28666586-fb36-4c13-8057-872fb4231651",
   "metadata": {},
   "outputs": [],
   "source": [
    "q = torch.arange(4*3, dtype=torch.float).reshape(1, 4, 3)\n",
    "k = torch.arange(4*3, dtype=torch.float).reshape(1, 4, 3)\n",
    "v = torch.zeros(1, 4, 3)\n",
    "a_w1 = F.softmax(torch.bmm(q, k.transpose(-2, -1)) / math.sqrt(q.size(-1)), dim=-1)\n",
    "a1 = torch.bmm(a_w1, v)\n",
    "a2, a_w2 = multihead_attention(q, k, v, attn_mask=torch.zeros(4, 4), average_attn_weights=False)"
   ]
  },
  {
   "cell_type": "code",
   "execution_count": 195,
   "id": "7f8671f8-0832-478d-aff7-a6076f5dbad9",
   "metadata": {},
   "outputs": [
    {
     "data": {
      "text/plain": [
       "(torch.Size([1, 4, 3]),\n",
       " torch.Size([1, 4, 3]),\n",
       " torch.Size([1, 4, 4]),\n",
       " torch.Size([1, 1, 4, 4]))"
      ]
     },
     "execution_count": 195,
     "metadata": {},
     "output_type": "execute_result"
    }
   ],
   "source": [
    "a1.shape, a2.shape, aw1.shape, aw2.shape"
   ]
  },
  {
   "cell_type": "code",
   "execution_count": 196,
   "id": "04ad0b09-f0eb-4cb0-8092-e0d16a5f9ea7",
   "metadata": {},
   "outputs": [
    {
     "data": {
      "text/plain": [
       "(tensor([[    0.0000,     0.0000,     0.0055,     0.9945],\n",
       "         [    0.0000,     0.0000,     0.0000,     1.0000],\n",
       "         [    0.0000,     0.0000,     0.0000,     1.0000],\n",
       "         [    0.0000,     0.0000,     0.0000,     1.0000]]),\n",
       " tensor([[[0.3871, 0.2759, 0.1967, 0.1403],\n",
       "          [0.6416, 0.2377, 0.0881, 0.0326],\n",
       "          [0.8085, 0.1557, 0.0300, 0.0058],\n",
       "          [0.9000, 0.0901, 0.0090, 0.0009]]], grad_fn=<SelectBackward0>))"
      ]
     },
     "execution_count": 196,
     "metadata": {},
     "output_type": "execute_result"
    }
   ],
   "source": [
    "a_w1[0], a_w2[0]"
   ]
  },
  {
   "cell_type": "code",
   "execution_count": 167,
   "id": "bf9e9a94-7457-4fe2-ac5e-9e89b1489e72",
   "metadata": {},
   "outputs": [
    {
     "data": {
      "text/plain": [
       "(tensor([[0., 0., 0.],\n",
       "         [0., 0., 0.],\n",
       "         [0., 0., 0.],\n",
       "         [0., 0., 0.]]),\n",
       " tensor([[0., 0., 0.],\n",
       "         [0., 0., 0.],\n",
       "         [0., 0., 0.],\n",
       "         [0., 0., 0.]], grad_fn=<SelectBackward0>))"
      ]
     },
     "execution_count": 167,
     "metadata": {},
     "output_type": "execute_result"
    }
   ],
   "source": [
    "a1[0], a2[0]"
   ]
  },
  {
   "cell_type": "code",
   "execution_count": 168,
   "id": "31688f1a-c044-4661-8ede-f2ad8c844855",
   "metadata": {},
   "outputs": [
    {
     "data": {
      "text/plain": [
       "tensor([[[ 0.,  1.,  2.],\n",
       "         [ 3.,  4.,  5.],\n",
       "         [ 6.,  7.,  8.],\n",
       "         [ 9., 10., 11.]]])"
      ]
     },
     "execution_count": 168,
     "metadata": {},
     "output_type": "execute_result"
    }
   ],
   "source": [
    "torch.arange(4*3, dtype=torch.float).reshape(4, 3)"
   ]
  },
  {
   "cell_type": "code",
   "execution_count": 169,
   "id": "f9f100b4-beed-42bd-9539-9b10c2ff00b7",
   "metadata": {},
   "outputs": [
    {
     "data": {
      "text/plain": [
       "tensor([[[ 0.,  1.,  2.],\n",
       "         [ 3.,  4.,  5.],\n",
       "         [ 6.,  7.,  8.],\n",
       "         [ 9., 10., 11.]]])"
      ]
     },
     "execution_count": 169,
     "metadata": {},
     "output_type": "execute_result"
    }
   ],
   "source": [
    "torch.arange(4*3, dtybe=torch.float).reshape(1, 4, 3)"
   ]
  },
  {
   "cell_type": "code",
   "execution_count": 193,
   "id": "5e009763-4988-42c6-89de-56945a4275ee",
   "metadata": {},
   "outputs": [
    {
     "data": {
      "text/plain": [
       "(tensor([[[ 0.,  1.,  2.],\n",
       "          [ 3.,  4.,  5.],\n",
       "          [ 6.,  7.,  8.],\n",
       "          [ 9., 10., 11.]]]),\n",
       " tensor([[[ 0.,  3.,  6.,  9.],\n",
       "          [ 1.,  4.,  7., 10.],\n",
       "          [ 2.,  5.,  8., 11.]]]),\n",
       " tensor([[[  5.,  14.,  23.,  32.],\n",
       "          [ 14.,  50.,  86., 122.],\n",
       "          [ 23.,  86., 149., 212.],\n",
       "          [ 32., 122., 212., 302.]]]))"
      ]
     },
     "execution_count": 193,
     "metadata": {},
     "output_type": "execute_result"
    }
   ],
   "source": [
    "q, k.transpose(-2, -1), torch.bmm(q, k.transpose(-2, -1))"
   ]
  },
  {
   "cell_type": "code",
   "execution_count": 190,
   "id": "339baa2d-2e0a-47e1-a80e-e846a2555452",
   "metadata": {},
   "outputs": [
    {
     "data": {
      "text/plain": [
       "tensor([0.0963, 0.0963, 0.7112, 0.0963])"
      ]
     },
     "execution_count": 190,
     "metadata": {},
     "output_type": "execute_result"
    }
   ],
   "source": [
    "F.softmax(torch.tensor([5,5,7,5], dtype=torch.float), dim=-1)"
   ]
  },
  {
   "cell_type": "code",
   "execution_count": 64,
   "id": "0c189288-6f5e-4052-906c-7fe30f439d56",
   "metadata": {},
   "outputs": [],
   "source": [
    "torch.set_printoptions(precision=4, sci_mode=False)"
   ]
  },
  {
   "cell_type": "code",
   "execution_count": 84,
   "id": "c4283821-af97-4298-8b60-d0a6b005b081",
   "metadata": {},
   "outputs": [
    {
     "data": {
      "text/plain": [
       "tensor([[-8.0708,  0.1867,  3.7953],\n",
       "        [-8.4427,  0.2336,  3.9820],\n",
       "        [-8.5436,  0.2463,  4.0327],\n",
       "        [-8.5740,  0.2501,  4.0480]], grad_fn=<MmBackward0>)"
      ]
     },
     "execution_count": 84,
     "metadata": {},
     "output_type": "execute_result"
    }
   ],
   "source": [
    "a = (q[0] @ k[0].T) / math.sqrt(3)\n",
    "softmax(a) @ v[0]"
   ]
  },
  {
   "cell_type": "code",
   "execution_count": 77,
   "id": "fa2d25a6-75bf-43e3-b0cb-e377f23414c9",
   "metadata": {},
   "outputs": [
    {
     "data": {
      "text/plain": [
       "tensor(36.0586, grad_fn=<DotBackward0>)"
      ]
     },
     "execution_count": 77,
     "metadata": {},
     "output_type": "execute_result"
    }
   ],
   "source": [
    "torch.dot(q[0, 3, :], k[0, 3, :])"
   ]
  },
  {
   "cell_type": "code",
   "execution_count": null,
   "id": "5c33b2f6-0d60-4e12-8fed-79ddbb94aae5",
   "metadata": {},
   "outputs": [],
   "source": []
  }
 ],
 "metadata": {
  "kernelspec": {
   "display_name": "Python 3 (ipykernel)",
   "language": "python",
   "name": "python3"
  },
  "language_info": {
   "codemirror_mode": {
    "name": "ipython",
    "version": 3
   },
   "file_extension": ".py",
   "mimetype": "text/x-python",
   "name": "python",
   "nbconvert_exporter": "python",
   "pygments_lexer": "ipython3",
   "version": "3.11.4"
  }
 },
 "nbformat": 4,
 "nbformat_minor": 5
}
